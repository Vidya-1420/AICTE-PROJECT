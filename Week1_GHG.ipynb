{
 "cells": [
  {
   "cell_type": "markdown",
   "id": "4b6f59e7",
   "metadata": {},
   "source": [
    "# Week 1: Greenhouse Gas Emissions Project\n",
    "### Task: Import Dataset and Perform Basic Analysis"
   ]
  },
  {
   "cell_type": "markdown",
   "id": "2a147eed",
   "metadata": {},
   "source": [
    "### Step 1: Import Libraries\n",
    "We use:\n",
    "- `pandas` for data handling"
   ]
  },
  {
   "cell_type": "code",
   "execution_count": null,
   "id": "50e03b70",
   "metadata": {},
   "outputs": [],
   "source": [
    "import pandas as pd"
   ]
  },
  {
   "cell_type": "markdown",
   "id": "a97498a5",
   "metadata": {},
   "source": [
    "### Step 2: Load Dataset\n",
    "We load the dataset `greenhouse_gas_emissions.csv` using `pd.read_csv()`. Make sure the file is uploaded in your working directory."
   ]
  },
  {
   "cell_type": "code",
   "execution_count": null,
   "id": "ee67c29f",
   "metadata": {},
   "outputs": [],
   "source": [
    "file_path = 'greenhouse_gas_emissions.csv'\n",
    "df = pd.read_csv(file_path)"
   ]
  },
  {
   "cell_type": "markdown",
   "id": "72b93ddb",
   "metadata": {},
   "source": [
    "### Step 3: Display First 5 Rows\n",
    "We use `df.head()` to view the first 5 rows."
   ]
  },
  {
   "cell_type": "code",
   "execution_count": null,
   "id": "f5c053d4",
   "metadata": {},
   "outputs": [],
   "source": [
    "print('First 5 rows of the dataset:')\n",
    "print(df.head())"
   ]
  },
  {
   "cell_type": "markdown",
   "id": "549729ca",
   "metadata": {},
   "source": [
    "### Step 4: Dataset Info\n",
    "`df.info()` shows column names, data types, and missing values."
   ]
  },
  {
   "cell_type": "code",
   "execution_count": null,
   "id": "64e2b9b2",
   "metadata": {},
   "outputs": [],
   "source": [
    "print('\\nDataset Info:')\n",
    "print(df.info())"
   ]
  },
  {
   "cell_type": "markdown",
   "id": "9d577c9d",
   "metadata": {},
   "source": [
    "### Step 5: Summary Statistics\n",
    "`df.describe()` provides basic statistics for numerical columns."
   ]
  },
  {
   "cell_type": "code",
   "execution_count": null,
   "id": "8e6e7338",
   "metadata": {},
   "outputs": [],
   "source": [
    "print('\\nDataset Description:')\n",
    "print(df.describe())"
   ]
  }
 ],
 "metadata": {},
 "nbformat": 4,
 "nbformat_minor": 5
}